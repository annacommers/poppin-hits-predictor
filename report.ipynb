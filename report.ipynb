{
 "cells": [
  {
   "cell_type": "markdown",
   "metadata": {},
   "source": [
    "# Poppin Hits Predictor\n",
    "\n",
    "By Luke Nonas-Hunter and Anna Commers"
   ]
  },
  {
   "cell_type": "code",
   "execution_count": 3,
   "metadata": {},
   "outputs": [
    {
     "name": "stdout",
     "output_type": "stream",
     "text": [
      "The autoreload extension is already loaded. To reload it, use:\n",
      "  %reload_ext autoreload\n"
     ]
    }
   ],
   "source": [
    "import matplotlib.pyplot as plt\n",
    "%matplotlib inline\n",
    "%load_ext autoreload\n",
    "%autoreload 2"
   ]
  },
  {
   "cell_type": "markdown",
   "metadata": {},
   "source": [
    "Over the past few years, TikTok has gained popularity and now has around 100 million users in the United States alone (Garcia-Navarro). For better or for worse, the app has made waves in the music industry. TikTok has made it easier than ever for songs from both big and small artists to become viral successes. We wondered if there were specific qualities that made songs popular on TikTok or if it was simply a combination of luck and advertising. To answer this question, popular TikTok songs were compared to the Spotify global top 50 songs. Numerical data from Spotify in categories like, energy, danceability, and tempo was used with principal component analysis. In addition to comparing TikTok songs and the top 50 songs, TikTok songs were compared with jazz songs as a control. After training the PCA algorithm, songs from these categories were tested using a nearest neighbor algorithm to see if it could accurately categorize each song as a TikTok song or not a TikTok song (top 50 or jazz in these cases). "
   ]
  },
  {
   "cell_type": "markdown",
   "metadata": {},
   "source": [
    "The data used is data that Spotify either creates for each song (such as, speechiness and liveness) or simply keeps track of (such as, key and tempo). There were 13 numerical data points for each song. This data was accessed with a Spotify API and was given in the form of a python dictionary. It was then stored and processed in a numpy matrix. The 13 categories were used for PCA to find where there was the most variation between songs. Overall, PCA was done on a training set of TikTok songs and Spotify top 50 songs and on a training set of TikTok songs and jazz songs. Finally, the principal eigenvectors found were used to categorize two training sets (TikTok/top 50 and TikTok/jazz) using a nearest neighbor algorithm. The training set and testing set are simply a random selection of half of the songs."
   ]
  },
  {
   "cell_type": "code",
   "execution_count": 5,
   "metadata": {},
   "outputs": [
    {
     "ename": "NameError",
     "evalue": "name 'run_local_algorithm' is not defined",
     "output_type": "error",
     "traceback": [
      "\u001b[0;31m---------------------------------------------------------------------------\u001b[0m",
      "\u001b[0;31mNameError\u001b[0m                                 Traceback (most recent call last)",
      "\u001b[0;32m<ipython-input-5-088ee582ad1b>\u001b[0m in \u001b[0;36m<module>\u001b[0;34m\u001b[0m\n\u001b[0;32m----> 1\u001b[0;31m \u001b[0mrun_local_algorithm\u001b[0m\u001b[0;34m(\u001b[0m\u001b[0mfile_name_1\u001b[0m\u001b[0;34m=\u001b[0m\u001b[0;34m'../data/viral_data.csv'\u001b[0m\u001b[0;34m,\u001b[0m \u001b[0mfile_name_2\u001b[0m\u001b[0;34m=\u001b[0m\u001b[0;34m'../data/top_data.csv'\u001b[0m\u001b[0;34m)\u001b[0m\u001b[0;34m\u001b[0m\u001b[0;34m\u001b[0m\u001b[0m\n\u001b[0m",
      "\u001b[0;31mNameError\u001b[0m: name 'run_local_algorithm' is not defined"
     ]
    }
   ],
   "source": [
    "run_local_algorithm(file_name_1='../data/viral_data.csv', file_name_2='../data/top_data.csv')"
   ]
  },
  {
   "cell_type": "code",
   "execution_count": null,
   "metadata": {},
   "outputs": [],
   "source": [
    "run_local_algorithm(file_name_1='../data/viral_data.csv', file_name_2='../data/jazz_data.csv')"
   ]
  },
  {
   "cell_type": "markdown",
   "metadata": {},
   "source": [
    "Two graphs were created which show songs plotted along the first two principal eigenvectors. The first graph is TikTok songs and jazz songs. The jazz songs are mostly grouped on the right side of the graph, whereas the TikTok songs are much more spread out along the first principal eigenvector. The second graph shows TikTok songs and Spotify top 50 songs. Again the TikTok songs are fairly spread out along the first principal eigenvector, whereas the top 50 songs are clustered on the left side of the graph. Interestingly, there is a large divide along the second principal eigenvector with songs from both categories grouped at the top and bottom of the graph. It is unclear exactly why this occurred, given that songs from both groups are on both the bottom and the top. It could suggest a general divide in popular music today such as, pop music vs. rap music, but this is still unknown. \n",
    "In addition to the graphs, the PCA algorithm was used on testing songs along with a nearest neighbor algorithm to attempt to figure out if they were TikTok songs or not. The algorithm was 75% accurate when comparing TikTok songs to jazz songs, but only 60% accurate when comparing TikTok songs to Spotify top 50 songs. These results make sense when compared to the graphs because the jazz songs were grouped with some overlap from TikTok songs and the top 50 had more overlap with the TikTok songs. Overall, it was shown that there was more variation in the TikTok songs compared to the other groups analyzed. The PCA and nearest neighbor algorithms had some success in grouping the songs, but were not able to capture the “TikTok factor” with the data used."
   ]
  },
  {
   "cell_type": "markdown",
   "metadata": {},
   "source": [
    "The results of this project suggest that the category of TikTok songs is simply too broad to assign definitive qualities to. Although the algorithm had difficulty differentiating TikTok songs and popular songs, there was much more variation in the TikTok songs. This suggests that TikTok could be making room for more variation in the world of popular music. TikTok has become a way for small artists to gain recognition without the help of large record labels advertising budgets. At the same time, it has been used by larger artists that can game the system by paying creators to make videos with their songs. Furthermore, finding patterns in TikTok songs has had an impact on originality as artists strive to cash in on making whatever songs they think could make for a good video. \n",
    "\n",
    "Overall, we learned about using an API and got a refresher on using PCA and nearest neighbor algorithms with real-world data and with python rather than matlab. We had some difficulty figuring out the structure of our code and scoping the project in a way that was challenging yet doable in the time frame. It was also more challenging to test our code than we thought it would be. In the end, we are very happy with what we accomplished. If given more time, we would be interested in both digging deeper into TikTok songs and exploring different types of songs. The TikTok songs used could be further divided beforehand by different types such as, dance songs, songs used for memes, and songs used for challenges. Alternatively, our code could be used to differentiate any two groups of songs and it might achieve better results when differentiating between factors like genre. "
   ]
  },
  {
   "cell_type": "markdown",
   "metadata": {},
   "source": [
    "Sources:\n",
    "\n",
    "Garcia-Navarro, Lulu. “How TikTok Has Changed The Music Industry.” NPR, NPR, 27 Sept. 2020, www.npr.org/2020/09/27/917424879/how-tiktok-has-changed-the-music-industry. "
   ]
  }
 ],
 "metadata": {
  "kernelspec": {
   "display_name": "Python 3",
   "language": "python",
   "name": "python3"
  },
  "language_info": {
   "codemirror_mode": {
    "name": "ipython",
    "version": 3
   },
   "file_extension": ".py",
   "mimetype": "text/x-python",
   "name": "python",
   "nbconvert_exporter": "python",
   "pygments_lexer": "ipython3",
   "version": "3.8.3"
  }
 },
 "nbformat": 4,
 "nbformat_minor": 4
}
